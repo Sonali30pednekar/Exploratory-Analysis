{
 "cells": [
  {
   "cell_type": "code",
   "execution_count": 50,
   "metadata": {},
   "outputs": [],
   "source": [
    "import altair as alt\n",
    "import pandas as pd\n",
    "import matplotlib as plt\n",
    "\n"
   ]
  },
  {
   "cell_type": "code",
   "execution_count": 66,
   "metadata": {},
   "outputs": [],
   "source": [
    "df = pd.read_csv(\"altair_top2.csv\")\n",
    "#df['value'] = df['value']/1000 "
   ]
  },
  {
   "cell_type": "code",
   "execution_count": 67,
   "metadata": {},
   "outputs": [
    {
     "data": {
      "text/html": [
       "<div>\n",
       "<style scoped>\n",
       "    .dataframe tbody tr th:only-of-type {\n",
       "        vertical-align: middle;\n",
       "    }\n",
       "\n",
       "    .dataframe tbody tr th {\n",
       "        vertical-align: top;\n",
       "    }\n",
       "\n",
       "    .dataframe thead th {\n",
       "        text-align: right;\n",
       "    }\n",
       "</style>\n",
       "<table border=\"1\" class=\"dataframe\">\n",
       "  <thead>\n",
       "    <tr style=\"text-align: right;\">\n",
       "      <th></th>\n",
       "      <th>subawardee_name</th>\n",
       "      <th>subaward_amount</th>\n",
       "      <th>subaward_action_date_fiscal_year</th>\n",
       "      <th>subawardee_business_types</th>\n",
       "      <th>subaward_description_list</th>\n",
       "    </tr>\n",
       "  </thead>\n",
       "  <tbody>\n",
       "    <tr>\n",
       "      <th>0</th>\n",
       "      <td>ALLIANT TECHSYSTEMS OPERATIONS LLC</td>\n",
       "      <td>62696821.0</td>\n",
       "      <td>2016</td>\n",
       "      <td>For-Profit Organization</td>\n",
       "      <td>Detonator&amp;Initiator</td>\n",
       "    </tr>\n",
       "    <tr>\n",
       "      <th>1</th>\n",
       "      <td>ALLIANT TECHSYSTEMS OPERATIONS LLC</td>\n",
       "      <td>62696821.0</td>\n",
       "      <td>2016</td>\n",
       "      <td>Manufacturer of Goods</td>\n",
       "      <td>Detonator&amp;Initiator</td>\n",
       "    </tr>\n",
       "    <tr>\n",
       "      <th>2</th>\n",
       "      <td>ALLIANT TECHSYSTEMS OPERATIONS LLC</td>\n",
       "      <td>62696821.0</td>\n",
       "      <td>2016</td>\n",
       "      <td>For-Profit Organization</td>\n",
       "      <td>Fuselage</td>\n",
       "    </tr>\n",
       "    <tr>\n",
       "      <th>3</th>\n",
       "      <td>ALLIANT TECHSYSTEMS OPERATIONS LLC</td>\n",
       "      <td>62696821.0</td>\n",
       "      <td>2016</td>\n",
       "      <td>Manufacturer of Goods</td>\n",
       "      <td>Fuselage</td>\n",
       "    </tr>\n",
       "    <tr>\n",
       "      <th>4</th>\n",
       "      <td>ALLIANT TECHSYSTEMS OPERATIONS LLC</td>\n",
       "      <td>62696821.0</td>\n",
       "      <td>2016</td>\n",
       "      <td>For-Profit Organization</td>\n",
       "      <td>GenStructuralAssys</td>\n",
       "    </tr>\n",
       "  </tbody>\n",
       "</table>\n",
       "</div>"
      ],
      "text/plain": [
       "                      subawardee_name  subaward_amount  \\\n",
       "0  ALLIANT TECHSYSTEMS OPERATIONS LLC       62696821.0   \n",
       "1  ALLIANT TECHSYSTEMS OPERATIONS LLC       62696821.0   \n",
       "2  ALLIANT TECHSYSTEMS OPERATIONS LLC       62696821.0   \n",
       "3  ALLIANT TECHSYSTEMS OPERATIONS LLC       62696821.0   \n",
       "4  ALLIANT TECHSYSTEMS OPERATIONS LLC       62696821.0   \n",
       "\n",
       "   subaward_action_date_fiscal_year subawardee_business_types  \\\n",
       "0                              2016   For-Profit Organization   \n",
       "1                              2016     Manufacturer of Goods   \n",
       "2                              2016   For-Profit Organization   \n",
       "3                              2016     Manufacturer of Goods   \n",
       "4                              2016   For-Profit Organization   \n",
       "\n",
       "  subaward_description_list  \n",
       "0       Detonator&Initiator  \n",
       "1       Detonator&Initiator  \n",
       "2                  Fuselage  \n",
       "3                  Fuselage  \n",
       "4        GenStructuralAssys  "
      ]
     },
     "execution_count": 67,
     "metadata": {},
     "output_type": "execute_result"
    }
   ],
   "source": [
    "df.head()"
   ]
  },
  {
   "cell_type": "code",
   "execution_count": 68,
   "metadata": {},
   "outputs": [],
   "source": [
    "df['subaward_action_date_fiscal_year'] = df['subaward_action_date_fiscal_year'].astype('category')"
   ]
  },
  {
   "cell_type": "code",
   "execution_count": 34,
   "metadata": {},
   "outputs": [],
   "source": [
    "df1 = df.loc[(df['subawardee_business_types'] == 'For-Profit Organization') or (df['subawardee_business_types'] == 'Manufacturer of Goods')]"
   ]
  },
  {
   "cell_type": "code",
   "execution_count": 49,
   "metadata": {},
   "outputs": [
    {
     "data": {
      "text/plain": [
       "array(['For-Profit Organization', 'Manufacturer of Goods'], dtype=object)"
      ]
     },
     "execution_count": 49,
     "metadata": {},
     "output_type": "execute_result"
    }
   ],
   "source": [
    "df.subawardee_business_types.unique()"
   ]
  },
  {
   "cell_type": "code",
   "execution_count": 44,
   "metadata": {},
   "outputs": [],
   "source": [
    "df2 = df1.loc[(df1['subaward_description_list'] == 'Firm Fixed Price') | (df1['subaward_description_list'] == 'NRE-Other')]"
   ]
  },
  {
   "cell_type": "code",
   "execution_count": 70,
   "metadata": {},
   "outputs": [
    {
     "data": {
      "text/plain": [
       "array(['For-Profit Organization', 'Manufacturer of Goods',\n",
       "       'Contracts and Grants'], dtype=object)"
      ]
     },
     "execution_count": 70,
     "metadata": {},
     "output_type": "execute_result"
    }
   ],
   "source": [
    "df.subawardee_business_types.unique()"
   ]
  },
  {
   "cell_type": "code",
   "execution_count": null,
   "metadata": {},
   "outputs": [],
   "source": []
  },
  {
   "cell_type": "code",
   "execution_count": 73,
   "metadata": {},
   "outputs": [
    {
     "data": {
      "text/html": [
       "\n",
       "<div id=\"altair-viz-b5dd4ff5bc074a1d9b87ba2be1d7286b\"></div>\n",
       "<script type=\"text/javascript\">\n",
       "  var VEGA_DEBUG = (typeof VEGA_DEBUG == \"undefined\") ? {} : VEGA_DEBUG;\n",
       "  (function(spec, embedOpt){\n",
       "    let outputDiv = document.currentScript.previousElementSibling;\n",
       "    if (outputDiv.id !== \"altair-viz-b5dd4ff5bc074a1d9b87ba2be1d7286b\") {\n",
       "      outputDiv = document.getElementById(\"altair-viz-b5dd4ff5bc074a1d9b87ba2be1d7286b\");\n",
       "    }\n",
       "    const paths = {\n",
       "      \"vega\": \"https://cdn.jsdelivr.net/npm//vega@5?noext\",\n",
       "      \"vega-lib\": \"https://cdn.jsdelivr.net/npm//vega-lib?noext\",\n",
       "      \"vega-lite\": \"https://cdn.jsdelivr.net/npm//vega-lite@4.17.0?noext\",\n",
       "      \"vega-embed\": \"https://cdn.jsdelivr.net/npm//vega-embed@6?noext\",\n",
       "    };\n",
       "\n",
       "    function maybeLoadScript(lib, version) {\n",
       "      var key = `${lib.replace(\"-\", \"\")}_version`;\n",
       "      return (VEGA_DEBUG[key] == version) ?\n",
       "        Promise.resolve(paths[lib]) :\n",
       "        new Promise(function(resolve, reject) {\n",
       "          var s = document.createElement('script');\n",
       "          document.getElementsByTagName(\"head\")[0].appendChild(s);\n",
       "          s.async = true;\n",
       "          s.onload = () => {\n",
       "            VEGA_DEBUG[key] = version;\n",
       "            return resolve(paths[lib]);\n",
       "          };\n",
       "          s.onerror = () => reject(`Error loading script: ${paths[lib]}`);\n",
       "          s.src = paths[lib];\n",
       "        });\n",
       "    }\n",
       "\n",
       "    function showError(err) {\n",
       "      outputDiv.innerHTML = `<div class=\"error\" style=\"color:red;\">${err}</div>`;\n",
       "      throw err;\n",
       "    }\n",
       "\n",
       "    function displayChart(vegaEmbed) {\n",
       "      vegaEmbed(outputDiv, spec, embedOpt)\n",
       "        .catch(err => showError(`Javascript Error: ${err.message}<br>This usually means there's a typo in your chart specification. See the javascript console for the full traceback.`));\n",
       "    }\n",
       "\n",
       "    if(typeof define === \"function\" && define.amd) {\n",
       "      requirejs.config({paths});\n",
       "      require([\"vega-embed\"], displayChart, err => showError(`Error loading script: ${err.message}`));\n",
       "    } else {\n",
       "      maybeLoadScript(\"vega\", \"5\")\n",
       "        .then(() => maybeLoadScript(\"vega-lite\", \"4.17.0\"))\n",
       "        .then(() => maybeLoadScript(\"vega-embed\", \"6\"))\n",
       "        .catch(showError)\n",
       "        .then(() => displayChart(vegaEmbed));\n",
       "    }\n",
       "  })({\"config\": {\"view\": {\"continuousWidth\": 400, \"continuousHeight\": 300}}, \"data\": {\"name\": \"data-47ec33e7474e66a1c19e21bd369060c8\"}, \"mark\": \"line\", \"encoding\": {\"row\": {\"field\": \"subaward_description_list\", \"title\": \"Household\", \"type\": \"nominal\"}, \"x\": {\"axis\": {\"title\": \"Month\"}, \"field\": \"subawardee_business_types\", \"type\": \"nominal\"}, \"y\": {\"axis\": {\"title\": \"Energy consumption (in KW)\"}, \"field\": \"subaward_amount\", \"type\": \"quantitative\"}}, \"height\": 200, \"resolve\": {\"scale\": {\"x\": \"independent\"}}, \"selection\": {\"selector014\": {\"type\": \"interval\", \"bind\": \"scales\", \"encodings\": [\"x\", \"y\"]}}, \"title\": {\"text\": \"Total Energy Consumption\", \"subtitle\": \"Monthly Energy Consumption of Three Households\"}, \"width\": 200, \"$schema\": \"https://vega.github.io/schema/vega-lite/v4.17.0.json\", \"datasets\": {\"data-47ec33e7474e66a1c19e21bd369060c8\": [{\"subawardee_name\": \"ALLIANT TECHSYSTEMS OPERATIONS LLC\", \"subaward_amount\": 62696821.0, \"subaward_action_date_fiscal_year\": 2016, \"subawardee_business_types\": \"For-Profit Organization\", \"subaward_description_list\": \"Detonator&Initiator\"}, {\"subawardee_name\": \"ALLIANT TECHSYSTEMS OPERATIONS LLC\", \"subaward_amount\": 62696821.0, \"subaward_action_date_fiscal_year\": 2016, \"subawardee_business_types\": \"Manufacturer of Goods\", \"subaward_description_list\": \"Detonator&Initiator\"}, {\"subawardee_name\": \"ALLIANT TECHSYSTEMS OPERATIONS LLC\", \"subaward_amount\": 62696821.0, \"subaward_action_date_fiscal_year\": 2016, \"subawardee_business_types\": \"For-Profit Organization\", \"subaward_description_list\": \"Fuselage\"}, {\"subawardee_name\": \"ALLIANT TECHSYSTEMS OPERATIONS LLC\", \"subaward_amount\": 62696821.0, \"subaward_action_date_fiscal_year\": 2016, \"subawardee_business_types\": \"Manufacturer of Goods\", \"subaward_description_list\": \"Fuselage\"}, {\"subawardee_name\": \"ALLIANT TECHSYSTEMS OPERATIONS LLC\", \"subaward_amount\": 62696821.0, \"subaward_action_date_fiscal_year\": 2016, \"subawardee_business_types\": \"For-Profit Organization\", \"subaward_description_list\": \"GenStructuralAssys\"}, {\"subawardee_name\": \"ALLIANT TECHSYSTEMS OPERATIONS LLC\", \"subaward_amount\": 62696821.0, \"subaward_action_date_fiscal_year\": 2016, \"subawardee_business_types\": \"Manufacturer of Goods\", \"subaward_description_list\": \"GenStructuralAssys\"}, {\"subawardee_name\": \"ALLIANT TECHSYSTEMS OPERATIONS LLC\", \"subaward_amount\": 62696821.0, \"subaward_action_date_fiscal_year\": 2016, \"subawardee_business_types\": \"For-Profit Organization\", \"subaward_description_list\": \"MoldedRubber&ORing\"}, {\"subawardee_name\": \"ALLIANT TECHSYSTEMS OPERATIONS LLC\", \"subaward_amount\": 62696821.0, \"subaward_action_date_fiscal_year\": 2016, \"subawardee_business_types\": \"Manufacturer of Goods\", \"subaward_description_list\": \"MoldedRubber&ORing\"}, {\"subawardee_name\": \"ALLIANT TECHSYSTEMS OPERATIONS LLC\", \"subaward_amount\": 62696821.0, \"subaward_action_date_fiscal_year\": 2016, \"subawardee_business_types\": \"For-Profit Organization\", \"subaward_description_list\": \"Non-complexMachined\"}, {\"subawardee_name\": \"ALLIANT TECHSYSTEMS OPERATIONS LLC\", \"subaward_amount\": 62696821.0, \"subaward_action_date_fiscal_year\": 2016, \"subawardee_business_types\": \"Manufacturer of Goods\", \"subaward_description_list\": \"Non-complexMachined\"}, {\"subawardee_name\": \"ALLIANT TECHSYSTEMS OPERATIONS LLC\", \"subaward_amount\": 62696821.0, \"subaward_action_date_fiscal_year\": 2016, \"subawardee_business_types\": \"For-Profit Organization\", \"subaward_description_list\": \"NRE-Other\"}, {\"subawardee_name\": \"ALLIANT TECHSYSTEMS OPERATIONS LLC\", \"subaward_amount\": 62696821.0, \"subaward_action_date_fiscal_year\": 2016, \"subawardee_business_types\": \"Manufacturer of Goods\", \"subaward_description_list\": \"NRE-Other\"}, {\"subawardee_name\": \"ALLIANT TECHSYSTEMS OPERATIONS LLC\", \"subaward_amount\": 62696821.0, \"subaward_action_date_fiscal_year\": 2016, \"subawardee_business_types\": \"For-Profit Organization\", \"subaward_description_list\": \"Seals\"}, {\"subawardee_name\": \"ALLIANT TECHSYSTEMS OPERATIONS LLC\", \"subaward_amount\": 62696821.0, \"subaward_action_date_fiscal_year\": 2016, \"subawardee_business_types\": \"Manufacturer of Goods\", \"subaward_description_list\": \"Seals\"}, {\"subawardee_name\": \"ALLIANT TECHSYSTEMS OPERATIONS LLC\", \"subaward_amount\": 62696821.0, \"subaward_action_date_fiscal_year\": 2016, \"subawardee_business_types\": \"For-Profit Organization\", \"subaward_description_list\": \"Tech/EngServices\"}, {\"subawardee_name\": \"ALLIANT TECHSYSTEMS OPERATIONS LLC\", \"subaward_amount\": 62696821.0, \"subaward_action_date_fiscal_year\": 2016, \"subawardee_business_types\": \"Manufacturer of Goods\", \"subaward_description_list\": \"Tech/EngServices\"}, {\"subawardee_name\": \"ALLIANT TECHSYSTEMS OPERATIONS LLC\", \"subaward_amount\": 62696821.0, \"subaward_action_date_fiscal_year\": 2016, \"subawardee_business_types\": \"For-Profit Organization\", \"subaward_description_list\": \"WireCable\"}, {\"subawardee_name\": \"ALLIANT TECHSYSTEMS OPERATIONS LLC\", \"subaward_amount\": 62696821.0, \"subaward_action_date_fiscal_year\": 2016, \"subawardee_business_types\": \"Manufacturer of Goods\", \"subaward_description_list\": \"WireCable\"}, {\"subawardee_name\": \"ALLIANT TECHSYSTEMS OPERATIONS LLC\", \"subaward_amount\": 60448995.0, \"subaward_action_date_fiscal_year\": 2016, \"subawardee_business_types\": \"For-Profit Organization\", \"subaward_description_list\": \"Detonator&Initiator\"}, {\"subawardee_name\": \"ALLIANT TECHSYSTEMS OPERATIONS LLC\", \"subaward_amount\": 60448995.0, \"subaward_action_date_fiscal_year\": 2016, \"subawardee_business_types\": \"Manufacturer of Goods\", \"subaward_description_list\": \"Detonator&Initiator\"}, {\"subawardee_name\": \"ALLIANT TECHSYSTEMS OPERATIONS LLC\", \"subaward_amount\": 60448995.0, \"subaward_action_date_fiscal_year\": 2016, \"subawardee_business_types\": \"For-Profit Organization\", \"subaward_description_list\": \"Fuselage\"}, {\"subawardee_name\": \"ALLIANT TECHSYSTEMS OPERATIONS LLC\", \"subaward_amount\": 60448995.0, \"subaward_action_date_fiscal_year\": 2016, \"subawardee_business_types\": \"Manufacturer of Goods\", \"subaward_description_list\": \"Fuselage\"}, {\"subawardee_name\": \"ALLIANT TECHSYSTEMS OPERATIONS LLC\", \"subaward_amount\": 60448995.0, \"subaward_action_date_fiscal_year\": 2016, \"subawardee_business_types\": \"For-Profit Organization\", \"subaward_description_list\": \"GenStructuralAssys\"}, {\"subawardee_name\": \"ALLIANT TECHSYSTEMS OPERATIONS LLC\", \"subaward_amount\": 60448995.0, \"subaward_action_date_fiscal_year\": 2016, \"subawardee_business_types\": \"Manufacturer of Goods\", \"subaward_description_list\": \"GenStructuralAssys\"}, {\"subawardee_name\": \"ALLIANT TECHSYSTEMS OPERATIONS LLC\", \"subaward_amount\": 60448995.0, \"subaward_action_date_fiscal_year\": 2016, \"subawardee_business_types\": \"For-Profit Organization\", \"subaward_description_list\": \"MoldedRubber&ORing\"}, {\"subawardee_name\": \"ALLIANT TECHSYSTEMS OPERATIONS LLC\", \"subaward_amount\": 60448995.0, \"subaward_action_date_fiscal_year\": 2016, \"subawardee_business_types\": \"Manufacturer of Goods\", \"subaward_description_list\": \"MoldedRubber&ORing\"}, {\"subawardee_name\": \"ALLIANT TECHSYSTEMS OPERATIONS LLC\", \"subaward_amount\": 60448995.0, \"subaward_action_date_fiscal_year\": 2016, \"subawardee_business_types\": \"For-Profit Organization\", \"subaward_description_list\": \"Non-complexMachined\"}, {\"subawardee_name\": \"ALLIANT TECHSYSTEMS OPERATIONS LLC\", \"subaward_amount\": 60448995.0, \"subaward_action_date_fiscal_year\": 2016, \"subawardee_business_types\": \"Manufacturer of Goods\", \"subaward_description_list\": \"Non-complexMachined\"}, {\"subawardee_name\": \"ALLIANT TECHSYSTEMS OPERATIONS LLC\", \"subaward_amount\": 60448995.0, \"subaward_action_date_fiscal_year\": 2016, \"subawardee_business_types\": \"For-Profit Organization\", \"subaward_description_list\": \"NRE-Other\"}, {\"subawardee_name\": \"ALLIANT TECHSYSTEMS OPERATIONS LLC\", \"subaward_amount\": 60448995.0, \"subaward_action_date_fiscal_year\": 2016, \"subawardee_business_types\": \"Manufacturer of Goods\", \"subaward_description_list\": \"NRE-Other\"}, {\"subawardee_name\": \"ALLIANT TECHSYSTEMS OPERATIONS LLC\", \"subaward_amount\": 60448995.0, \"subaward_action_date_fiscal_year\": 2016, \"subawardee_business_types\": \"For-Profit Organization\", \"subaward_description_list\": \"Seals\"}, {\"subawardee_name\": \"ALLIANT TECHSYSTEMS OPERATIONS LLC\", \"subaward_amount\": 60448995.0, \"subaward_action_date_fiscal_year\": 2016, \"subawardee_business_types\": \"Manufacturer of Goods\", \"subaward_description_list\": \"Seals\"}, {\"subawardee_name\": \"ALLIANT TECHSYSTEMS OPERATIONS LLC\", \"subaward_amount\": 60448995.0, \"subaward_action_date_fiscal_year\": 2016, \"subawardee_business_types\": \"For-Profit Organization\", \"subaward_description_list\": \"Tech/EngServices\"}, {\"subawardee_name\": \"ALLIANT TECHSYSTEMS OPERATIONS LLC\", \"subaward_amount\": 60448995.0, \"subaward_action_date_fiscal_year\": 2016, \"subawardee_business_types\": \"Manufacturer of Goods\", \"subaward_description_list\": \"Tech/EngServices\"}, {\"subawardee_name\": \"ALLIANT TECHSYSTEMS OPERATIONS LLC\", \"subaward_amount\": 60448995.0, \"subaward_action_date_fiscal_year\": 2016, \"subawardee_business_types\": \"For-Profit Organization\", \"subaward_description_list\": \"WireCable\"}, {\"subawardee_name\": \"ALLIANT TECHSYSTEMS OPERATIONS LLC\", \"subaward_amount\": 60448995.0, \"subaward_action_date_fiscal_year\": 2016, \"subawardee_business_types\": \"Manufacturer of Goods\", \"subaward_description_list\": \"WireCable\"}, {\"subawardee_name\": \"ALLIANT TECHSYSTEMS OPERATIONS LLC\", \"subaward_amount\": 60000000.0, \"subaward_action_date_fiscal_year\": 2016, \"subawardee_business_types\": \"For-Profit Organization\", \"subaward_description_list\": \"CostPlusFixedFee\"}, {\"subawardee_name\": \"ALLIANT TECHSYSTEMS OPERATIONS LLC\", \"subaward_amount\": 60000000.0, \"subaward_action_date_fiscal_year\": 2016, \"subawardee_business_types\": \"Manufacturer of Goods\", \"subaward_description_list\": \"CostPlusFixedFee\"}, {\"subawardee_name\": \"ALLIANT TECHSYSTEMS OPERATIONS LLC\", \"subaward_amount\": 48800000.0, \"subaward_action_date_fiscal_year\": 2016, \"subawardee_business_types\": \"For-Profit Organization\", \"subaward_description_list\": \"CostPlusFixedFee\"}, {\"subawardee_name\": \"ALLIANT TECHSYSTEMS OPERATIONS LLC\", \"subaward_amount\": 48800000.0, \"subaward_action_date_fiscal_year\": 2016, \"subawardee_business_types\": \"Manufacturer of Goods\", \"subaward_description_list\": \"CostPlusFixedFee\"}, {\"subawardee_name\": \"ALLIANT TECHSYSTEMS OPERATIONS LLC\", \"subaward_amount\": 48800000.0, \"subaward_action_date_fiscal_year\": 2016, \"subawardee_business_types\": \"For-Profit Organization\", \"subaward_description_list\": \"CostPlusFixedFee\"}, {\"subawardee_name\": \"ALLIANT TECHSYSTEMS OPERATIONS LLC\", \"subaward_amount\": 48800000.0, \"subaward_action_date_fiscal_year\": 2016, \"subawardee_business_types\": \"Manufacturer of Goods\", \"subaward_description_list\": \"CostPlusFixedFee\"}, {\"subawardee_name\": \"ALLIANT TECHSYSTEMS OPERATIONS LLC\", \"subaward_amount\": 48800000.0, \"subaward_action_date_fiscal_year\": 2016, \"subawardee_business_types\": \"For-Profit Organization\", \"subaward_description_list\": \"CostPlusFixedFee\"}, {\"subawardee_name\": \"ALLIANT TECHSYSTEMS OPERATIONS LLC\", \"subaward_amount\": 48800000.0, \"subaward_action_date_fiscal_year\": 2016, \"subawardee_business_types\": \"Manufacturer of Goods\", \"subaward_description_list\": \"CostPlusFixedFee\"}, {\"subawardee_name\": \"ALLIANT TECHSYSTEMS OPERATIONS LLC\", \"subaward_amount\": 44000000.0, \"subaward_action_date_fiscal_year\": 2016, \"subawardee_business_types\": \"For-Profit Organization\", \"subaward_description_list\": \"CostPlusFixedFee\"}, {\"subawardee_name\": \"ALLIANT TECHSYSTEMS OPERATIONS LLC\", \"subaward_amount\": 44000000.0, \"subaward_action_date_fiscal_year\": 2016, \"subawardee_business_types\": \"Manufacturer of Goods\", \"subaward_description_list\": \"CostPlusFixedFee\"}, {\"subawardee_name\": \"ALLIANT TECHSYSTEMS OPERATIONS LLC\", \"subaward_amount\": 39200000.0, \"subaward_action_date_fiscal_year\": 2016, \"subawardee_business_types\": \"For-Profit Organization\", \"subaward_description_list\": \"CostPlusFixedFee\"}, {\"subawardee_name\": \"ALLIANT TECHSYSTEMS OPERATIONS LLC\", \"subaward_amount\": 39200000.0, \"subaward_action_date_fiscal_year\": 2016, \"subawardee_business_types\": \"Manufacturer of Goods\", \"subaward_description_list\": \"CostPlusFixedFee\"}, {\"subawardee_name\": \"ALLIANT TECHSYSTEMS OPERATIONS LLC\", \"subaward_amount\": 35100000.0, \"subaward_action_date_fiscal_year\": 2016, \"subawardee_business_types\": \"For-Profit Organization\", \"subaward_description_list\": \"CostPlusFixedFee\"}, {\"subawardee_name\": \"ALLIANT TECHSYSTEMS OPERATIONS LLC\", \"subaward_amount\": 35100000.0, \"subaward_action_date_fiscal_year\": 2016, \"subawardee_business_types\": \"Manufacturer of Goods\", \"subaward_description_list\": \"CostPlusFixedFee\"}, {\"subawardee_name\": \"ALLIANT TECHSYSTEMS OPERATIONS LLC\", \"subaward_amount\": 31200000.0, \"subaward_action_date_fiscal_year\": 2016, \"subawardee_business_types\": \"For-Profit Organization\", \"subaward_description_list\": \"CostPlusFixedFee\"}, {\"subawardee_name\": \"ALLIANT TECHSYSTEMS OPERATIONS LLC\", \"subaward_amount\": 31200000.0, \"subaward_action_date_fiscal_year\": 2016, \"subawardee_business_types\": \"Manufacturer of Goods\", \"subaward_description_list\": \"CostPlusFixedFee\"}, {\"subawardee_name\": \"ALLIANT TECHSYSTEMS OPERATIONS LLC\", \"subaward_amount\": 22205895.0, \"subaward_action_date_fiscal_year\": 2016, \"subawardee_business_types\": \"For-Profit Organization\", \"subaward_description_list\": \"CostPlusFixedFee\"}, {\"subawardee_name\": \"ALLIANT TECHSYSTEMS OPERATIONS LLC\", \"subaward_amount\": 22205895.0, \"subaward_action_date_fiscal_year\": 2016, \"subawardee_business_types\": \"Manufacturer of Goods\", \"subaward_description_list\": \"CostPlusFixedFee\"}, {\"subawardee_name\": \"ALLIANT TECHSYSTEMS OPERATIONS LLC\", \"subaward_amount\": 21000000.0, \"subaward_action_date_fiscal_year\": 2016, \"subawardee_business_types\": \"For-Profit Organization\", \"subaward_description_list\": \"CostPlusFixedFee\"}, {\"subawardee_name\": \"ALLIANT TECHSYSTEMS OPERATIONS LLC\", \"subaward_amount\": 21000000.0, \"subaward_action_date_fiscal_year\": 2016, \"subawardee_business_types\": \"Manufacturer of Goods\", \"subaward_description_list\": \"CostPlusFixedFee\"}, {\"subawardee_name\": \"ALLIANT TECHSYSTEMS OPERATIONS LLC\", \"subaward_amount\": 11200000.0, \"subaward_action_date_fiscal_year\": 2016, \"subawardee_business_types\": \"For-Profit Organization\", \"subaward_description_list\": \"CostPlusFixedFee\"}, {\"subawardee_name\": \"ALLIANT TECHSYSTEMS OPERATIONS LLC\", \"subaward_amount\": 11200000.0, \"subaward_action_date_fiscal_year\": 2016, \"subawardee_business_types\": \"Manufacturer of Goods\", \"subaward_description_list\": \"CostPlusFixedFee\"}, {\"subawardee_name\": \"ALLIANT TECHSYSTEMS OPERATIONS LLC\", \"subaward_amount\": 8000000.0, \"subaward_action_date_fiscal_year\": 2016, \"subawardee_business_types\": \"For-Profit Organization\", \"subaward_description_list\": \"CostPlusFixedFee\"}, {\"subawardee_name\": \"ALLIANT TECHSYSTEMS OPERATIONS LLC\", \"subaward_amount\": 8000000.0, \"subaward_action_date_fiscal_year\": 2016, \"subawardee_business_types\": \"Manufacturer of Goods\", \"subaward_description_list\": \"CostPlusFixedFee\"}, {\"subawardee_name\": \"ALLIANT TECHSYSTEMS OPERATIONS LLC\", \"subaward_amount\": 6000000.0, \"subaward_action_date_fiscal_year\": 2016, \"subawardee_business_types\": \"For-Profit Organization\", \"subaward_description_list\": \"CostPlusFixedFee\"}, {\"subawardee_name\": \"ALLIANT TECHSYSTEMS OPERATIONS LLC\", \"subaward_amount\": 6000000.0, \"subaward_action_date_fiscal_year\": 2016, \"subawardee_business_types\": \"Manufacturer of Goods\", \"subaward_description_list\": \"CostPlusFixedFee\"}, {\"subawardee_name\": \"ALLIANT TECHSYSTEMS OPERATIONS LLC\", \"subaward_amount\": 4000000.0, \"subaward_action_date_fiscal_year\": 2016, \"subawardee_business_types\": \"For-Profit Organization\", \"subaward_description_list\": \"CostPlusFixedFee\"}, {\"subawardee_name\": \"ALLIANT TECHSYSTEMS OPERATIONS LLC\", \"subaward_amount\": 4000000.0, \"subaward_action_date_fiscal_year\": 2016, \"subawardee_business_types\": \"Manufacturer of Goods\", \"subaward_description_list\": \"CostPlusFixedFee\"}, {\"subawardee_name\": \"ALLIANT TECHSYSTEMS OPERATIONS LLC\", \"subaward_amount\": 500000.0, \"subaward_action_date_fiscal_year\": 2016, \"subawardee_business_types\": \"Contracts and Grants\", \"subaward_description_list\": \"CostPlusFixedFee\"}, {\"subawardee_name\": \"ALLIANT TECHSYSTEMS OPERATIONS LLC\", \"subaward_amount\": 500000.0, \"subaward_action_date_fiscal_year\": 2016, \"subawardee_business_types\": \"For-Profit Organization\", \"subaward_description_list\": \"CostPlusFixedFee\"}, {\"subawardee_name\": \"ALLIANT TECHSYSTEMS OPERATIONS LLC\", \"subaward_amount\": 500000.0, \"subaward_action_date_fiscal_year\": 2016, \"subawardee_business_types\": \"Manufacturer of Goods\", \"subaward_description_list\": \"CostPlusFixedFee\"}, {\"subawardee_name\": \"ALLIANT TECHSYSTEMS OPERATIONS LLC\", \"subaward_amount\": 199862.0, \"subaward_action_date_fiscal_year\": 2020, \"subawardee_business_types\": \"For-Profit Organization\", \"subaward_description_list\": \"NRE-Other\"}, {\"subawardee_name\": \"ALLIANT TECHSYSTEMS OPERATIONS LLC\", \"subaward_amount\": 199862.0, \"subaward_action_date_fiscal_year\": 2020, \"subawardee_business_types\": \"Manufacturer of Goods\", \"subaward_description_list\": \"NRE-Other\"}, {\"subawardee_name\": \"ALLIANT TECHSYSTEMS OPERATIONS LLC\", \"subaward_amount\": 197547.0, \"subaward_action_date_fiscal_year\": 2020, \"subawardee_business_types\": \"For-Profit Organization\", \"subaward_description_list\": \"NRE-Other\"}, {\"subawardee_name\": \"ALLIANT TECHSYSTEMS OPERATIONS LLC\", \"subaward_amount\": 197547.0, \"subaward_action_date_fiscal_year\": 2020, \"subawardee_business_types\": \"Manufacturer of Goods\", \"subaward_description_list\": \"NRE-Other\"}, {\"subawardee_name\": \"ALLIANT TECHSYSTEMS OPERATIONS LLC\", \"subaward_amount\": 197472.0, \"subaward_action_date_fiscal_year\": 2020, \"subawardee_business_types\": \"For-Profit Organization\", \"subaward_description_list\": \"NRE-Other\"}, {\"subawardee_name\": \"ALLIANT TECHSYSTEMS OPERATIONS LLC\", \"subaward_amount\": 197472.0, \"subaward_action_date_fiscal_year\": 2020, \"subawardee_business_types\": \"Manufacturer of Goods\", \"subaward_description_list\": \"NRE-Other\"}, {\"subawardee_name\": \"ALLIANT TECHSYSTEMS OPERATIONS LLC\", \"subaward_amount\": 99925.0, \"subaward_action_date_fiscal_year\": 2020, \"subawardee_business_types\": \"For-Profit Organization\", \"subaward_description_list\": \"NRE-Other\"}, {\"subawardee_name\": \"ALLIANT TECHSYSTEMS OPERATIONS LLC\", \"subaward_amount\": 99925.0, \"subaward_action_date_fiscal_year\": 2020, \"subawardee_business_types\": \"Manufacturer of Goods\", \"subaward_description_list\": \"NRE-Other\"}, {\"subawardee_name\": \"ALLIANT TECHSYSTEMS OPERATIONS LLC\", \"subaward_amount\": 98553.0, \"subaward_action_date_fiscal_year\": 2020, \"subawardee_business_types\": \"For-Profit Organization\", \"subaward_description_list\": \"NRE-Other\"}, {\"subawardee_name\": \"ALLIANT TECHSYSTEMS OPERATIONS LLC\", \"subaward_amount\": 98553.0, \"subaward_action_date_fiscal_year\": 2020, \"subawardee_business_types\": \"Manufacturer of Goods\", \"subaward_description_list\": \"NRE-Other\"}, {\"subawardee_name\": \"ALLIANT TECHSYSTEMS OPERATIONS LLC\", \"subaward_amount\": 91925.0, \"subaward_action_date_fiscal_year\": 2020, \"subawardee_business_types\": \"For-Profit Organization\", \"subaward_description_list\": \"NRE-Other\"}, {\"subawardee_name\": \"ALLIANT TECHSYSTEMS OPERATIONS LLC\", \"subaward_amount\": 91925.0, \"subaward_action_date_fiscal_year\": 2020, \"subawardee_business_types\": \"Manufacturer of Goods\", \"subaward_description_list\": \"NRE-Other\"}, {\"subawardee_name\": \"ALLIANT TECHSYSTEMS OPERATIONS LLC\", \"subaward_amount\": 2176384.0, \"subaward_action_date_fiscal_year\": 2020, \"subawardee_business_types\": \"For-Profit Organization\", \"subaward_description_list\": \"NRE-Other\"}, {\"subawardee_name\": \"ALLIANT TECHSYSTEMS OPERATIONS LLC\", \"subaward_amount\": 2176384.0, \"subaward_action_date_fiscal_year\": 2020, \"subawardee_business_types\": \"Manufacturer of Goods\", \"subaward_description_list\": \"NRE-Other\"}, {\"subawardee_name\": \"ALLIANT TECHSYSTEMS OPERATIONS LLC\", \"subaward_amount\": 2148728.0, \"subaward_action_date_fiscal_year\": 2020, \"subawardee_business_types\": \"For-Profit Organization\", \"subaward_description_list\": \"NRE-Other\"}, {\"subawardee_name\": \"ALLIANT TECHSYSTEMS OPERATIONS LLC\", \"subaward_amount\": 2148728.0, \"subaward_action_date_fiscal_year\": 2020, \"subawardee_business_types\": \"Manufacturer of Goods\", \"subaward_description_list\": \"NRE-Other\"}]}}, {\"mode\": \"vega-lite\"});\n",
       "</script>"
      ],
      "text/plain": [
       "alt.Chart(...)"
      ]
     },
     "execution_count": 73,
     "metadata": {},
     "output_type": "execute_result"
    }
   ],
   "source": [
    "\n",
    "# Plotting figure\n",
    "fig = (alt.Chart(df).mark_line().encode(\n",
    "    x=alt.X('subawardee_business_types', axis = alt.Axis(title = \"Month\")),\n",
    "    y=alt.Y('subaward_amount', axis = alt.Axis(title = \"Energy consumption (in KW)\")),\n",
    "    #size = alt.value(100),\n",
    "    #color = alt.Color(\"appliance_category\", scale = alt.Scale(scheme = 'dark2'),title = \"Appliance Category\"),\n",
    "    #column = alt.Column(\"subawardee_business_types\", title = \"Appliance Category\"),\n",
    "    row = alt.Row(\"subaward_description_list\",title = \"Household\"),\n",
    "    #tooltip=['appliance_category', 'household', 'month', 'value']\n",
    ")).resolve_scale(x='independent').properties(title={\"text\":'Total Energy Consumption',\"subtitle\" : \"Monthly Energy Consumption of Three Households\"},width = 200, height = 200).interactive()\n",
    "\n",
    "\n",
    "fig.save(\"altair.html\")\n",
    "fig"
   ]
  },
  {
   "cell_type": "code",
   "execution_count": null,
   "metadata": {},
   "outputs": [],
   "source": []
  },
  {
   "cell_type": "code",
   "execution_count": null,
   "metadata": {},
   "outputs": [],
   "source": []
  }
 ],
 "metadata": {
  "interpreter": {
   "hash": "369a4fc5e93a3ff1d9dc933225134c472905f2caa775dbbe856894f670107faa"
  },
  "kernelspec": {
   "display_name": "Python 3.9.7 ('base')",
   "language": "python",
   "name": "python3"
  },
  "language_info": {
   "codemirror_mode": {
    "name": "ipython",
    "version": 3
   },
   "file_extension": ".py",
   "mimetype": "text/x-python",
   "name": "python",
   "nbconvert_exporter": "python",
   "pygments_lexer": "ipython3",
   "version": "3.9.7"
  },
  "orig_nbformat": 4
 },
 "nbformat": 4,
 "nbformat_minor": 2
}
